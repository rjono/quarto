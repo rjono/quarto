{
  "cells": [
    {
      "cell_type": "raw",
      "id": "863f6c44",
      "metadata": {},
      "source": [
        "---\n",
        "title: \"Vizualisation test\"\n",
        "description: \"jaskgjaksjdg;kajsgdfkl;jaskl;d j I hope it works \"\n",
        "author: \"Fizz McPhee\"\n",
        "date: \"5/22/2021\"\n",
        "draft: false\n",
        "---"
      ]
    },
    {
      "cell_type": "markdown",
      "id": "d26438af",
      "metadata": {},
      "source": [
        "### Hey hey hey visual edit mode not bad\n",
        "\n",
        "**bold** *italic* yaya\n",
        "\n",
        "This is nicer for sure.\n",
        "\n",
        "Below is an interactive visualisation:\n"
      ]
    }
  ],
  "metadata": {
    "kernelspec": {
      "display_name": "Python 3 (ipykernel)",
      "language": "python",
      "name": "python3"
    }
  },
  "nbformat": 4,
  "nbformat_minor": 5
}
